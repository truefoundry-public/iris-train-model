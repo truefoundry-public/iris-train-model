{
 "cells": [
  {
   "cell_type": "markdown",
   "metadata": {
    "id": "KPsrbcty6JfS"
   },
   "source": [
    "##### This notebook demonstrates a demo of how you can deploy your first job with TrueFoundry.\n",
    "\n",
    "---\n"
   ]
  },
  {
   "cell_type": "markdown",
   "metadata": {
    "id": "Q9eRIwP76rBv"
   },
   "source": [
    "After you complete the notebook, you will have a successful deployed a job to train a model on the iris dataser. Your jobs deployment dashboard will look like this:\n",
    "\n",
    "![](https://files.readme.io/2f6871c-Screenshot_2022-11-16_at_11.43.31_PM.png)\n"
   ]
  },
  {
   "cell_type": "markdown",
   "metadata": {
    "id": "RbdHA8sf6qm4"
   },
   "source": [
    "## Project structure\n",
    "\n",
    "To complete this guide, you are going to create the following **files**:\n",
    "\n",
    "- `train.py` : contains our training code\n",
    "- `requirements.txt` : contains our dependencies\n",
    "- `deploy.py` contains our deployment code ( you can also use a deployment configuration for deploying using a YAML file)\n",
    "\n",
    "Your **final file structure** is going to look like this:\n",
    "\n",
    "```\n",
    ".\n",
    "├── train.py\n",
    "├── deploy.py\n",
    "└── requirements.txt\n",
    "```\n",
    "\n",
    "As you can see, all the following files are created in the same folder/directory\n"
   ]
  },
  {
   "cell_type": "markdown",
   "metadata": {
    "id": "1ag-WSEf642R"
   },
   "source": [
    "# Setup\n",
    "\n",
    "Let's first setup all the things we need to deploy our service.\n",
    "\n",
    "- Signup or Login on TrueFoundry\n",
    "- Setup Workspace\n"
   ]
  },
  {
   "cell_type": "markdown",
   "metadata": {
    "id": "Vr3iFsrv67Mc"
   },
   "source": [
    "Let's start with installing `truefoundry`.\n"
   ]
  },
  {
   "cell_type": "code",
   "execution_count": 1,
   "metadata": {
    "colab": {
     "base_uri": "https://localhost:8080/"
    },
    "execution": {
     "iopub.execute_input": "2025-06-23T13:40:31.934797Z",
     "iopub.status.busy": "2025-06-23T13:40:31.934301Z",
     "iopub.status.idle": "2025-06-23T13:40:32.411473Z",
     "shell.execute_reply": "2025-06-23T13:40:32.411039Z",
     "shell.execute_reply.started": "2025-06-23T13:40:31.934748Z"
    },
    "id": "x5HP_7Qt6pqw",
    "outputId": "8bcd94b9-537f-4399-e958-d6e29a3a99c0"
   },
   "outputs": [
    {
     "name": "stdout",
     "output_type": "stream",
     "text": [
      "\u001b[31mERROR: Invalid requirement: 'truefoundry boto3 neo4j weaviate-client': Expected end or semicolon (after name and no valid version specifier)\n",
      "    truefoundry boto3 neo4j weaviate-client\n",
      "                ^\u001b[0m\u001b[31m\n",
      "\u001b[0mNote: you may need to restart the kernel to use updated packages.\n"
     ]
    }
   ],
   "source": [
    "%pip install -U \"truefoundry boto3 neo4j weaviate-client\""
   ]
  },
  {
   "cell_type": "markdown",
   "metadata": {},
   "source": [
    "**Login into TrueFoundry**"
   ]
  },
  {
   "cell_type": "code",
   "execution_count": 2,
   "metadata": {
    "execution": {
     "iopub.execute_input": "2025-06-23T13:40:32.412199Z",
     "iopub.status.busy": "2025-06-23T13:40:32.412035Z",
     "iopub.status.idle": "2025-06-23T13:40:34.744198Z",
     "shell.execute_reply": "2025-06-23T13:40:34.743712Z",
     "shell.execute_reply.started": "2025-06-23T13:40:32.412182Z"
    },
    "id": "0QL_ZCes6nEz"
   },
   "outputs": [
    {
     "name": "stdout",
     "output_type": "stream",
     "text": [
      "Already logged in to \u001b[32m'https://platform-admin.live-demo.truefoundry.cloud'\u001b[0m as \u001b[32m'tfy-user'\u001b[0m\n",
      "To relogin, use `tfy login --host \u001b[4;94mhttps://platform-admin.live-demo.truefoundry.cloud\u001b[0m --relogin` or `\u001b[1;35mtruefoundry.login\u001b[0m\u001b[1m(\u001b[0m\u001b[33mhost\u001b[0m=\u001b[32m'https://platform-admin.live-demo.truefoundry.cloud'\u001b[0m, \u001b[33mrelogin\u001b[0m=\u001b[3;92mTrue\u001b[0m\u001b[1m)\u001b[0m` function\n"
     ]
    }
   ],
   "source": [
    "!tfy login --host \"https://platform-admin.live-demo.truefoundry.cloud\""
   ]
  },
  {
   "cell_type": "markdown",
   "metadata": {
    "id": "5eDM6Z6r6q8G"
   },
   "source": [
    "**Select the `Workspace` in which you want to deploy your application.**\n",
    "\n",
    "Once you run the cell below you will get a prompt to enter your Workspace FQN. Follow the docs to\n",
    "\n",
    "**Create a Workspace**: https://docs.truefoundry.com/docs/key-concepts#creating-a-workspace\n",
    "\n",
    "**Get Existing Workspace FQN**: https://docs.truefoundry.com/docs/key-concepts#get-workspace-fqn"
   ]
  },
  {
   "cell_type": "code",
   "execution_count": 3,
   "metadata": {
    "execution": {
     "iopub.execute_input": "2025-06-23T13:40:34.745175Z",
     "iopub.status.busy": "2025-06-23T13:40:34.744827Z",
     "iopub.status.idle": "2025-06-23T13:40:34.747804Z",
     "shell.execute_reply": "2025-06-23T13:40:34.747309Z",
     "shell.execute_reply.started": "2025-06-23T13:40:34.745153Z"
    },
    "id": "4AU4ufGu6tpT"
   },
   "outputs": [],
   "source": [
    "WORKSPACE_FQN = \"tfy-aws:dev-ws\""
   ]
  },
  {
   "cell_type": "markdown",
   "metadata": {},
   "source": [
    "## Load Data\n",
    "We will show multiple ways to load the dataset here:\n",
    "1. Load data from External S3 bucket\n",
    "2. Load data from neo4j\n",
    "3. Load data from weaviate\n",
    "4. Load data from TrueFoundry ML Repository"
   ]
  },
  {
   "cell_type": "markdown",
   "metadata": {},
   "source": [
    "# 1. Load data from External S3 bucket\n",
    "\n",
    "External S3 bucket can be accessed using IAM role attached to serviceaccount of the Notebook"
   ]
  },
  {
   "cell_type": "code",
   "execution_count": 4,
   "metadata": {
    "execution": {
     "iopub.execute_input": "2025-06-23T13:40:34.748447Z",
     "iopub.status.busy": "2025-06-23T13:40:34.748316Z",
     "iopub.status.idle": "2025-06-23T13:40:35.059916Z",
     "shell.execute_reply": "2025-06-23T13:40:35.059423Z",
     "shell.execute_reply.started": "2025-06-23T13:40:34.748436Z"
    }
   },
   "outputs": [
    {
     "name": "stdout",
     "output_type": "stream",
     "text": [
      "['dataset/', 'dataset/dataset/dataset-A.csv', 'dataset/dataset/dataset-B.csv', 'dataset/dataset/dataset-C.csv', 'dataset/dataset/dataset-D.csv', 'dataset/dataset/dataset-E.csv', 'dataset/dataset/dataset-F.csv', 'sample.txt']\n"
     ]
    }
   ],
   "source": [
    "# !pip install boto3\n",
    "import boto3\n",
    "s3_client = boto3.client(\"s3\")\n",
    "\n",
    "response = s3_client.list_objects(Bucket='tfy-usea1-ext-ctl20250623064606752500000001')\n",
    "# res = response['Body'].read().decode('utf-8')\n",
    "paths = [obj['Key'] for obj in response['Contents']]\n",
    "\n",
    "print(paths)"
   ]
  },
  {
   "cell_type": "markdown",
   "metadata": {},
   "source": [
    "### 2. Load data from neo4j\n",
    "\n",
    "Connect to Neo4j instance running on TrueFoundry or any managed service"
   ]
  },
  {
   "cell_type": "code",
   "execution_count": 5,
   "metadata": {
    "execution": {
     "iopub.execute_input": "2025-06-23T13:40:35.060614Z",
     "iopub.status.busy": "2025-06-23T13:40:35.060458Z",
     "iopub.status.idle": "2025-06-23T13:40:35.290965Z",
     "shell.execute_reply": "2025-06-23T13:40:35.290496Z",
     "shell.execute_reply.started": "2025-06-23T13:40:35.060599Z"
    }
   },
   "outputs": [
    {
     "name": "stdout",
     "output_type": "stream",
     "text": [
      "{'name': 'Alice'}\n",
      "{'name': 'Alice'}\n",
      "{'name': 'Alice'}\n",
      "The query `\n",
      "        MATCH (p:Person)-[:KNOWS]->(:Person)\n",
      "        RETURN p.name AS name\n",
      "        ` returned 3 records in 2 ms.\n"
     ]
    }
   ],
   "source": [
    "from neo4j import GraphDatabase\n",
    "\n",
    "URI = \"neo4j://neo4j.dev-ws.svc.cluster.local\"\n",
    "AUTH = (\"neo4j\", \"51ce8fd4-1c9a-44e8-ad3b-b9d26ea6d074\")\n",
    "\n",
    "with GraphDatabase.driver(URI, auth=AUTH) as driver:\n",
    "    driver.verify_connectivity()\n",
    "    # Create graph\n",
    "    # summary = driver.execute_query(\"\"\"\n",
    "    #     CREATE (a:Person {name: $name})\n",
    "    #     CREATE (b:Person {name: $friendName})\n",
    "    #     CREATE (a)-[:KNOWS]->(b)\n",
    "    #     \"\"\",\n",
    "    #     name=\"Alice\", friendName=\"David\",\n",
    "    #     database_=\"neo4j\",\n",
    "    # ).summary\n",
    "    # print(\"Created {nodes_created} nodes in {time} ms.\".format(\n",
    "    #     nodes_created=summary.counters.nodes_created,\n",
    "    #     time=summary.result_available_after\n",
    "    # ))\n",
    "    # Query a graph\n",
    "    records, summary, keys = driver.execute_query(\"\"\"\n",
    "        MATCH (p:Person)-[:KNOWS]->(:Person)\n",
    "        RETURN p.name AS name\n",
    "        \"\"\",\n",
    "        database_=\"neo4j\",\n",
    "    )\n",
    "    # Loop through results and do something with them\n",
    "    for record in records:\n",
    "        print(record.data())  # obtain record as dict\n",
    "    # Summary information\n",
    "    print(\"The query `{query}` returned {records_count} records in {time} ms.\".format(\n",
    "        query=summary.query, records_count=len(records),\n",
    "        time=summary.result_available_after\n",
    "    ))"
   ]
  },
  {
   "cell_type": "markdown",
   "metadata": {},
   "source": [
    "### 3. Load data from Weaviate\n",
    "\n",
    "Connect to Weaviate instance running on TrueFoundry or any managed service"
   ]
  },
  {
   "cell_type": "code",
   "execution_count": 6,
   "metadata": {
    "execution": {
     "iopub.execute_input": "2025-06-23T13:40:35.292462Z",
     "iopub.status.busy": "2025-06-23T13:40:35.292081Z",
     "iopub.status.idle": "2025-06-23T13:40:35.928264Z",
     "shell.execute_reply": "2025-06-23T13:40:35.927787Z",
     "shell.execute_reply.started": "2025-06-23T13:40:35.292447Z"
    }
   },
   "outputs": [],
   "source": [
    "import weaviate\n",
    "\n",
    "Host = \"weaviate.dev-ws.svc.cluster.local\"\n",
    "grpcHost = \"weaviate-grpc.dev-ws.svc.cluster.local\"\n",
    "\n",
    "client = weaviate.connect_to_custom(\n",
    "    http_host=Host,\n",
    "    http_port=8080,\n",
    "    http_secure=False,\n",
    "    grpc_host=grpcHost,\n",
    "    grpc_port=50051,\n",
    "    grpc_secure=False,\n",
    ")\n",
    "# Create a new collection\n",
    "# from weaviate.classes.config import Property, DataType\n",
    "\n",
    "# # Note that you can use `client.collections.create_from_dict()` to create a collection from a v3-client-style JSON object\n",
    "# client.collections.create(\n",
    "#     \"Article\",\n",
    "#     properties=[\n",
    "#         Property(name=\"title\", data_type=DataType.TEXT),\n",
    "#         Property(name=\"body\", data_type=DataType.TEXT),\n",
    "#     ]\n",
    "# )\n",
    "\n",
    "# List all collections\n",
    "resp = client.collections.list_all()"
   ]
  },
  {
   "cell_type": "markdown",
   "metadata": {},
   "source": [
    "### 4. Load data from TrueFoundry ML Repository"
   ]
  },
  {
   "cell_type": "code",
   "execution_count": 7,
   "metadata": {
    "execution": {
     "iopub.execute_input": "2025-06-23T13:40:35.929342Z",
     "iopub.status.busy": "2025-06-23T13:40:35.928808Z",
     "iopub.status.idle": "2025-06-23T13:40:37.919073Z",
     "shell.execute_reply": "2025-06-23T13:40:37.918585Z",
     "shell.execute_reply.started": "2025-06-23T13:40:35.929319Z"
    }
   },
   "outputs": [
    {
     "name": "stdout",
     "output_type": "stream",
     "text": [
      "[truefoundry.ml] 2025-06-23T13:40:37+0000 INFO Logged in to 'https://platform-admin.live-demo.truefoundry.cloud' as 'tfy-user'\n",
      "[truefoundry.ml] 2025-06-23T13:40:37+0000 INFO Downloading artifact version contents, this might take a while ...\n"
     ]
    },
    {
     "data": {
      "application/vnd.jupyter.widget-view+json": {
       "model_id": "31a2afb92eb740c48eeddbf51b5228d2",
       "version_major": 2,
       "version_minor": 0
      },
      "text/plain": [
       "Output()"
      ]
     },
     "metadata": {},
     "output_type": "display_data"
    },
    {
     "data": {
      "text/html": [
       "<pre style=\"white-space:pre;overflow-x:auto;line-height:normal;font-family:Menlo,'DejaVu Sans Mono',consolas,'Courier New',monospace\">/home/jovyan/.conda/envs/jupyter-base/lib/python3.11/site-packages/truefoundry/ml/_autogen/client/api/mlfoundry_art\n",
       "ifacts_api.py:6148: DeprecationWarning: POST /api/2.0/mlflow/mlfoundry-artifacts/artifact-versions/files/list is \n",
       "deprecated.\n",
       "  warnings.warn(\n",
       "</pre>\n"
      ],
      "text/plain": [
       "/home/jovyan/.conda/envs/jupyter-base/lib/python3.11/site-packages/truefoundry/ml/_autogen/client/api/mlfoundry_art\n",
       "ifacts_api.py:6148: DeprecationWarning: POST /api/2.0/mlflow/mlfoundry-artifacts/artifact-versions/files/list is \n",
       "deprecated.\n",
       "  warnings.warn(\n"
      ]
     },
     "metadata": {},
     "output_type": "display_data"
    },
    {
     "name": "stderr",
     "output_type": "stream",
     "text": [
      "/home/jovyan/.conda/envs/jupyter-base/lib/python3.11/site-packages/weaviate/warnings.py:314: ResourceWarning: Con004: The connection to Weaviate was not closed properly. This can lead to memory leaks.\n",
      "            Please make sure to close the connection using `client.close()`.\n",
      "  warnings.warn(\n",
      "/tmp/ipykernel_3510/63962274.py:4: ResourceWarning: unclosed <socket.socket fd=61, family=2, type=1, proto=6, laddr=('10.10.43.157', 48682), raddr=('172.20.231.168', 8080)>\n",
      "  client = get_client()\n",
      "ResourceWarning: Enable tracemalloc to get the object allocation traceback\n",
      "/home/jovyan/.conda/envs/jupyter-base/lib/python3.11/site-packages/truefoundry/ml/_autogen/client/api/mlfoundry_artifacts_api.py:3151: DeprecationWarning: GET /api/2.0/mlflow/mlfoundry-artifacts/artifact-versions/get-by-fqn is deprecated.\n",
      "  warnings.warn(\n",
      "/home/jovyan/.conda/envs/jupyter-base/lib/python3.11/site-packages/truefoundry/ml/_autogen/client/api/mlfoundry_artifacts_api.py:3002: DeprecationWarning: GET /api/2.0/mlflow/mlfoundry-artifacts/artifacts/get is deprecated.\n",
      "  warnings.warn(\n"
     ]
    },
    {
     "data": {
      "text/html": [
       "<pre style=\"white-space:pre;overflow-x:auto;line-height:normal;font-family:Menlo,'DejaVu Sans Mono',consolas,'Courier New',monospace\">/home/jovyan/.conda/envs/jupyter-base/lib/python3.11/site-packages/truefoundry/ml/_autogen/client/api/mlfoundry_art\n",
       "ifacts_api.py:5183: DeprecationWarning: POST \n",
       "/api/2.0/mlflow/mlfoundry-artifacts/artifact-versions/get-signed-urls-for-read is deprecated.\n",
       "  warnings.warn(\n",
       "</pre>\n"
      ],
      "text/plain": [
       "/home/jovyan/.conda/envs/jupyter-base/lib/python3.11/site-packages/truefoundry/ml/_autogen/client/api/mlfoundry_art\n",
       "ifacts_api.py:5183: DeprecationWarning: POST \n",
       "/api/2.0/mlflow/mlfoundry-artifacts/artifact-versions/get-signed-urls-for-read is deprecated.\n",
       "  warnings.warn(\n"
      ]
     },
     "metadata": {},
     "output_type": "display_data"
    },
    {
     "name": "stdout",
     "output_type": "stream",
     "text": [
      "[truefoundry.ml] 2025-06-23T13:40:37+0000 INFO Downloading dataset-A.csv to /home/jovyan/train-model/dataset-A.csv\n"
     ]
    },
    {
     "data": {
      "text/html": [
       "<pre style=\"white-space:pre;overflow-x:auto;line-height:normal;font-family:Menlo,'DejaVu Sans Mono',consolas,'Courier New',monospace\"></pre>\n"
      ],
      "text/plain": []
     },
     "metadata": {},
     "output_type": "display_data"
    }
   ],
   "source": [
    "# Download dataset from ML Repo\n",
    "\n",
    "from truefoundry.ml import get_client\n",
    "client = get_client()\n",
    "\n",
    "# Get the artifact version directly\n",
    "artifact_version = client.get_artifact_version_by_fqn(\"artifact:live-demo/bank-customer-churn/locally-uploaded:3\")\n",
    "\n",
    "# download it to disk\n",
    "# `download_path` points to a directory that has all contents of the artifact\n",
    "download_path = artifact_version.download(path=\".\", overwrite=True)"
   ]
  },
  {
   "cell_type": "markdown",
   "metadata": {
    "id": "IgTqSS3Q7J46"
   },
   "source": [
    "# Step 1: Implement the training code\n",
    "\n",
    "The first step is to create a job that trains a scikit learn model on iris dataset\n",
    "\n",
    "We start with a `train.py` containing our training code and `requirements.txt` with our dependencies.\n",
    "\n",
    "```\n",
    ".\n",
    "├── train.py\n",
    "└── requirements.txt\n",
    "```\n"
   ]
  },
  {
   "cell_type": "markdown",
   "metadata": {
    "id": "ewNT1fG07tRY"
   },
   "source": [
    "### **`train.py`**\n"
   ]
  },
  {
   "cell_type": "code",
   "execution_count": 8,
   "metadata": {
    "colab": {
     "base_uri": "https://localhost:8080/"
    },
    "execution": {
     "iopub.execute_input": "2025-06-23T13:40:37.919910Z",
     "iopub.status.busy": "2025-06-23T13:40:37.919617Z",
     "iopub.status.idle": "2025-06-23T13:40:37.923929Z",
     "shell.execute_reply": "2025-06-23T13:40:37.923380Z",
     "shell.execute_reply.started": "2025-06-23T13:40:37.919895Z"
    },
    "id": "LuU9kOzv7Ci7",
    "outputId": "002753bd-6b23-48ff-aff6-9fa5c0f380d6"
   },
   "outputs": [
    {
     "name": "stdout",
     "output_type": "stream",
     "text": [
      "Overwriting train.py\n"
     ]
    }
   ],
   "source": [
    "%%writefile train.py\n",
    "from sklearn.datasets import load_iris\n",
    "from sklearn.model_selection import train_test_split\n",
    "from sklearn.linear_model import LogisticRegression\n",
    "from sklearn.metrics import classification_report\n",
    "\n",
    "# load the dataset\n",
    "X, y = load_iris(as_frame=True, return_X_y=True)\n",
    "X = X.rename(columns={\n",
    "        \"sepal length (cm)\": \"sepal_length\",\n",
    "        \"sepal width (cm)\": \"sepal_width\",\n",
    "        \"petal length (cm)\": \"petal_length\",\n",
    "        \"petal width (cm)\": \"petal_width\",\n",
    "})\n",
    "\n",
    "# NOTE:- You can pass these configurations via command line\n",
    "# arguments, config file, environment variables.\n",
    "X_train, X_test, y_train, y_test = train_test_split(\n",
    "    X, y, test_size=0.2, random_state=42, stratify=y\n",
    ")\n",
    "\n",
    "# Initialize the model\n",
    "clf = LogisticRegression(solver=\"liblinear\")\n",
    "# Fit the model\n",
    "clf.fit(X_train, y_train)\n",
    "\n",
    "preds = clf.predict(X_test)\n",
    "print(classification_report(y_true=y_test, y_pred=preds))"
   ]
  },
  {
   "cell_type": "markdown",
   "metadata": {
    "id": "Exa3CI-T7jnR"
   },
   "source": [
    "Click on this [link](https://docs.truefoundry.com/v0.1.1/recipes/training-a-scikit-learn-model) to understand the **`app.py`**:\n"
   ]
  },
  {
   "cell_type": "markdown",
   "metadata": {
    "id": "c1zqWidl7yTS"
   },
   "source": [
    "### **`requirements.txt`**\n"
   ]
  },
  {
   "cell_type": "code",
   "execution_count": 9,
   "metadata": {
    "colab": {
     "base_uri": "https://localhost:8080/"
    },
    "execution": {
     "iopub.execute_input": "2025-06-23T13:40:37.924753Z",
     "iopub.status.busy": "2025-06-23T13:40:37.924598Z",
     "iopub.status.idle": "2025-06-23T13:40:37.928065Z",
     "shell.execute_reply": "2025-06-23T13:40:37.927555Z",
     "shell.execute_reply.started": "2025-06-23T13:40:37.924740Z"
    },
    "id": "vHJts2tR7bfw",
    "outputId": "7b4c8cbb-2e42-4e6c-e265-d7acf59ffc6a"
   },
   "outputs": [
    {
     "name": "stdout",
     "output_type": "stream",
     "text": [
      "Overwriting requirements.txt\n"
     ]
    }
   ],
   "source": [
    "%%writefile requirements.txt\n",
    "pandas==1.5.3\n",
    "numpy==1.23.2\n",
    "scikit-learn==1.5.0"
   ]
  },
  {
   "cell_type": "markdown",
   "metadata": {
    "id": "vtwCrPGJ750K"
   },
   "source": [
    "# Step 2: Deploying as a Job\n",
    "\n",
    "You can deploy services on TrueFoundry programmatically via our **Python SDK**.\n",
    "\n",
    "Create the `deploy.py`, after which our file structure will look like this:\n",
    "\n",
    "**File Structure**\n",
    "\n",
    "```Text\n",
    ".\n",
    "├── train.py\n",
    "├── deploy.py\n",
    "└── requirements.txt\n",
    "```\n",
    "\n",
    "### **`deploy.py`**\n"
   ]
  },
  {
   "cell_type": "code",
   "execution_count": 10,
   "metadata": {
    "colab": {
     "base_uri": "https://localhost:8080/"
    },
    "execution": {
     "iopub.execute_input": "2025-06-23T13:40:37.929031Z",
     "iopub.status.busy": "2025-06-23T13:40:37.928753Z",
     "iopub.status.idle": "2025-06-23T13:40:37.932215Z",
     "shell.execute_reply": "2025-06-23T13:40:37.931763Z",
     "shell.execute_reply.started": "2025-06-23T13:40:37.929018Z"
    },
    "id": "jc-yRSkE7xdD",
    "outputId": "ffa6fcc8-f43d-4238-8138-ed5131b2322c"
   },
   "outputs": [
    {
     "name": "stdout",
     "output_type": "stream",
     "text": [
      "Overwriting deploy.py\n"
     ]
    }
   ],
   "source": [
    "%%writefile deploy.py\n",
    "import argparse\n",
    "import logging\n",
    "\n",
    "from truefoundry.deploy import Build, Job, PythonBuild, LocalSource\n",
    "\n",
    "logging.basicConfig(\n",
    "    level=logging.INFO, format=\"%(asctime)s [%(name)s] %(levelname)-8s %(message)s\"\n",
    ")\n",
    "\n",
    "parser = argparse.ArgumentParser()\n",
    "parser.add_argument(\"--workspace_fqn\", required=True, type=str)\n",
    "args = parser.parse_args()\n",
    "\n",
    "job = Job(\n",
    "    name=\"iris-train-job\",\n",
    "    image=Build(\n",
    "        build_source=LocalSource(local_build=False),\n",
    "        build_spec=PythonBuild(\n",
    "            python_version=\"3.11\",\n",
    "            command=\"python train.py\",\n",
    "            requirements_path=\"requirements.txt\",\n",
    "        )\n",
    "    )\n",
    ")\n",
    "job.deploy(workspace_fqn=args.workspace_fqn, wait=False)"
   ]
  },
  {
   "cell_type": "markdown",
   "metadata": {
    "id": "6bjVtz5v829H"
   },
   "source": [
    "Now to deploy our Job run the command below\n"
   ]
  },
  {
   "cell_type": "code",
   "execution_count": 11,
   "metadata": {
    "colab": {
     "base_uri": "https://localhost:8080/"
    },
    "execution": {
     "iopub.execute_input": "2025-06-23T13:40:37.933204Z",
     "iopub.status.busy": "2025-06-23T13:40:37.932958Z",
     "iopub.status.idle": "2025-06-23T13:40:40.527261Z",
     "shell.execute_reply": "2025-06-23T13:40:40.526661Z",
     "shell.execute_reply.started": "2025-06-23T13:40:37.933184Z"
    },
    "id": "OBNeK70h85L1",
    "outputId": "58c98c1d-9622-46b3-e977-8eb9e195d22b"
   },
   "outputs": [
    {
     "name": "stdout",
     "output_type": "stream",
     "text": [
      "2025-06-23 13:40:39,569 [truefoundry] INFO     Logged in to 'https://platform-admin.live-demo.truefoundry.cloud' as 'tfy-user'\n",
      "2025-06-23 13:40:39,616 [truefoundry] INFO     Image will be built remotely because `image.build_source.local_build` is set to `false`. For faster builds it is recommended to install Docker locally and set `image.build_source.local_build` to `true` in your YAML spec or equivalently set `image=Build(build_source=LocalSource(local_build=True, ...))` in your `Service` or `Job` definition code.\n",
      "2025-06-23 13:40:39,616 [truefoundry] INFO     Uploading code for job 'iris-train-job'\n",
      "2025-06-23 13:40:39,617 [truefoundry] INFO     Archiving contents of dir: '/home/jovyan/train-model'\n",
      "2025-06-23 13:40:39,770 [truefoundry] INFO     Neither `.tfyignore` file found in /home/jovyan/train-model nor a valid git repository found. We recommend you to create .tfyignore file and add file patterns to ignore\n",
      "Packaging source code: 2it [00:00, 700.92it/s]\n",
      "2025-06-23 13:40:39,777 [truefoundry] INFO     Code archive size: '6.88 KiB'\n",
      "Uploading package: 100%|███████████████████| 6.88k/6.88k [00:00<00:00, 90.4kB/s]\n",
      "2025-06-23 13:40:40,093 [truefoundry] INFO     🚀 Deployment started for application 'iris-train-job'. Deployment FQN is 'tfy-aws:dev-ws:iris-train-job:1'.\n",
      "2025-06-23 13:40:40,094 [truefoundry] INFO     Deployment FQN: tfy-aws:dev-ws:iris-train-job:1\n",
      "2025-06-23 13:40:40,094 [truefoundry] INFO     Application FQN: tfy-aws:dev-ws:iris-train-job\n",
      "2025-06-23 13:40:40,095 [truefoundry] INFO     You can find the application on the dashboard:- 'https://platform-admin.live-demo.truefoundry.cloud/applications/cmc959lsy09i201nbdnje9ihv?tab=deployments'\n"
     ]
    }
   ],
   "source": [
    "!python deploy.py --workspace_fqn $WORKSPACE_FQN"
   ]
  },
  {
   "cell_type": "code",
   "execution_count": null,
   "metadata": {},
   "outputs": [],
   "source": []
  }
 ],
 "metadata": {
  "colab": {
   "provenance": []
  },
  "kernelspec": {
   "display_name": ".conda-jupyter-base",
   "language": "python",
   "name": "conda-env-.conda-jupyter-base-py"
  },
  "language_info": {
   "codemirror_mode": {
    "name": "ipython",
    "version": 3
   },
   "file_extension": ".py",
   "mimetype": "text/x-python",
   "name": "python",
   "nbconvert_exporter": "python",
   "pygments_lexer": "ipython3",
   "version": "3.11.10"
  }
 },
 "nbformat": 4,
 "nbformat_minor": 4
}
