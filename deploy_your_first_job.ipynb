{
 "cells": [
  {
   "cell_type": "markdown",
   "metadata": {
    "id": "KPsrbcty6JfS"
   },
   "source": [
    "##### This notebook demonstrates a demo of how you can deploy your first job with TrueFoundry.\n",
    "\n",
    "---\n"
   ]
  },
  {
   "cell_type": "markdown",
   "metadata": {
    "id": "Q9eRIwP76rBv"
   },
   "source": [
    "After you complete the notebook, you will have a successful deployed a job to train a model on the iris dataser. Your jobs deployment dashboard will look like this:\n",
    "\n",
    "![](https://files.readme.io/2f6871c-Screenshot_2022-11-16_at_11.43.31_PM.png)\n"
   ]
  },
  {
   "cell_type": "markdown",
   "metadata": {
    "id": "RbdHA8sf6qm4"
   },
   "source": [
    "## Project structure\n",
    "\n",
    "To complete this guide, you are going to create the following **files**:\n",
    "\n",
    "- `train.py` : contains our training code\n",
    "- `requirements.txt` : contains our dependencies\n",
    "- `deploy.py` contains our deployment code ( you can also use a deployment configuration for deploying using a YAML file)\n",
    "\n",
    "Your **final file structure** is going to look like this:\n",
    "\n",
    "```\n",
    ".\n",
    "├── train.py\n",
    "├── deploy.py\n",
    "└── requirements.txt\n",
    "```\n",
    "\n",
    "As you can see, all the following files are created in the same folder/directory\n"
   ]
  },
  {
   "cell_type": "markdown",
   "metadata": {
    "id": "1ag-WSEf642R"
   },
   "source": [
    "# Setup\n",
    "\n",
    "Let's first setup all the things we need to deploy our service.\n",
    "\n",
    "- Signup or Login on TrueFoundry\n",
    "- Setup Workspace\n"
   ]
  },
  {
   "cell_type": "markdown",
   "metadata": {
    "id": "Vr3iFsrv67Mc"
   },
   "source": [
    "Let's start with installing `truefoundry`.\n"
   ]
  },
  {
   "cell_type": "code",
   "execution_count": 6,
   "metadata": {
    "colab": {
     "base_uri": "https://localhost:8080/"
    },
    "execution": {
     "iopub.execute_input": "2025-06-23T14:25:39.769495Z",
     "iopub.status.busy": "2025-06-23T14:25:39.769277Z",
     "iopub.status.idle": "2025-06-23T14:25:41.622660Z",
     "shell.execute_reply": "2025-06-23T14:25:41.621996Z",
     "shell.execute_reply.started": "2025-06-23T14:25:39.769478Z"
    },
    "id": "x5HP_7Qt6pqw",
    "outputId": "8bcd94b9-537f-4399-e958-d6e29a3a99c0"
   },
   "outputs": [
    {
     "name": "stdout",
     "output_type": "stream",
     "text": [
      "Requirement already satisfied: truefoundry in /home/jovyan/.conda/envs/jupyter-base/lib/python3.11/site-packages (0.10.5)\n",
      "Requirement already satisfied: boto3 in /home/jovyan/.conda/envs/jupyter-base/lib/python3.11/site-packages (1.38.41)\n",
      "Requirement already satisfied: neo4j in /home/jovyan/.conda/envs/jupyter-base/lib/python3.11/site-packages (5.28.1)\n",
      "Requirement already satisfied: weaviate-client in /home/jovyan/.conda/envs/jupyter-base/lib/python3.11/site-packages (4.15.2)\n",
      "Collecting weaviate-client\n",
      "  Downloading weaviate_client-4.15.3-py3-none-any.whl.metadata (3.7 kB)\n",
      "Requirement already satisfied: aenum<4.0.0,>=3.0.0 in /home/jovyan/.conda/envs/jupyter-base/lib/python3.11/site-packages (from truefoundry) (3.1.16)\n",
      "Requirement already satisfied: click<9.0.0,>=7.0.0 in /home/jovyan/.conda/envs/jupyter-base/lib/python3.11/site-packages (from truefoundry) (8.2.1)\n",
      "Requirement already satisfied: coolname<2.0.0,>=1.1.0 in /home/jovyan/.conda/envs/jupyter-base/lib/python3.11/site-packages (from truefoundry) (1.1.0)\n",
      "Requirement already satisfied: docker<8.0.0,>=6.1.2 in /home/jovyan/.conda/envs/jupyter-base/lib/python3.11/site-packages (from truefoundry) (7.1.0)\n",
      "Requirement already satisfied: filelock<4.0.0,>=3.8.0 in /home/jovyan/.conda/envs/jupyter-base/lib/python3.11/site-packages (from truefoundry) (3.18.0)\n",
      "Requirement already satisfied: gitignorefile<2.0.0,>=1.1.2 in /home/jovyan/.conda/envs/jupyter-base/lib/python3.11/site-packages (from truefoundry) (1.1.2)\n",
      "Requirement already satisfied: gitpython<4.0.0,>=3.1.43 in /home/jovyan/.conda/envs/jupyter-base/lib/python3.11/site-packages (from truefoundry) (3.1.43)\n",
      "Requirement already satisfied: importlib-metadata<9.0.0,>=4.11.3 in /home/jovyan/.conda/envs/jupyter-base/lib/python3.11/site-packages (from truefoundry) (8.5.0)\n",
      "Requirement already satisfied: importlib-resources<7.0.0,>=5.2.0 in /home/jovyan/.conda/envs/jupyter-base/lib/python3.11/site-packages (from truefoundry) (6.4.5)\n",
      "Requirement already satisfied: mako<2.0.0,>=1.1.6 in /home/jovyan/.conda/envs/jupyter-base/lib/python3.11/site-packages (from truefoundry) (1.3.10)\n",
      "Requirement already satisfied: numpy<3.0.0,>=1.23.0 in /home/jovyan/.conda/envs/jupyter-base/lib/python3.11/site-packages (from truefoundry) (2.3.1)\n",
      "Requirement already satisfied: openai<2.0.0,>=1.16.2 in /home/jovyan/.conda/envs/jupyter-base/lib/python3.11/site-packages (from truefoundry) (1.90.0)\n",
      "Requirement already satisfied: packaging<26.0,>=20.0 in /home/jovyan/.conda/envs/jupyter-base/lib/python3.11/site-packages (from truefoundry) (24.2)\n",
      "Requirement already satisfied: pydantic<3.0.0,>=1.8.2 in /home/jovyan/.conda/envs/jupyter-base/lib/python3.11/site-packages (from truefoundry) (2.11.7)\n",
      "Requirement already satisfied: pygments<3.0.0,>=2.12.0 in /home/jovyan/.conda/envs/jupyter-base/lib/python3.11/site-packages (from truefoundry) (2.18.0)\n",
      "Requirement already satisfied: pyjwt<3.0.0,>=2.0.0 in /home/jovyan/.conda/envs/jupyter-base/lib/python3.11/site-packages (from truefoundry) (2.10.1)\n",
      "Requirement already satisfied: python-dateutil<3.0.0,>=2.8.2 in /home/jovyan/.conda/envs/jupyter-base/lib/python3.11/site-packages (from truefoundry) (2.9.0.post0)\n",
      "Requirement already satisfied: python-dotenv<2.0.0,>=1.0.1 in /home/jovyan/.conda/envs/jupyter-base/lib/python3.11/site-packages (from truefoundry) (1.1.0)\n",
      "Requirement already satisfied: python-socketio<6.0.0,>=5.5.2 in /home/jovyan/.conda/envs/jupyter-base/lib/python3.11/site-packages (from python-socketio[client]<6.0.0,>=5.5.2->truefoundry) (5.13.0)\n",
      "Requirement already satisfied: pyyaml<7.0.0,>=6.0.0 in /home/jovyan/.conda/envs/jupyter-base/lib/python3.11/site-packages (from truefoundry) (6.0.2)\n",
      "Requirement already satisfied: questionary<2.0.0,>=1.10.0 in /home/jovyan/.conda/envs/jupyter-base/lib/python3.11/site-packages (from truefoundry) (1.10.0)\n",
      "Requirement already satisfied: requests<3.0.0,>=2.18.0 in /home/jovyan/.conda/envs/jupyter-base/lib/python3.11/site-packages (from truefoundry) (2.32.3)\n",
      "Requirement already satisfied: requirements-parser<0.12.0,>=0.11.0 in /home/jovyan/.conda/envs/jupyter-base/lib/python3.11/site-packages (from truefoundry) (0.11.0)\n",
      "Requirement already satisfied: rich-click<2.0.0,>=1.2.1 in /home/jovyan/.conda/envs/jupyter-base/lib/python3.11/site-packages (from truefoundry) (1.8.9)\n",
      "Requirement already satisfied: rich<14.0.0,>=13.7.1 in /home/jovyan/.conda/envs/jupyter-base/lib/python3.11/site-packages (from truefoundry) (13.9.4)\n",
      "Requirement already satisfied: tqdm<5.0.0,>=4.0.0 in /home/jovyan/.conda/envs/jupyter-base/lib/python3.11/site-packages (from truefoundry) (4.67.1)\n",
      "Requirement already satisfied: truefoundry-sdk<0.2.0,>=0.1.3 in /home/jovyan/.conda/envs/jupyter-base/lib/python3.11/site-packages (from truefoundry) (0.1.3)\n",
      "Requirement already satisfied: typing-extensions>=4.0 in /home/jovyan/.conda/envs/jupyter-base/lib/python3.11/site-packages (from truefoundry) (4.12.2)\n",
      "Requirement already satisfied: urllib3<3,>=1.26.18 in /home/jovyan/.conda/envs/jupyter-base/lib/python3.11/site-packages (from truefoundry) (2.2.3)\n",
      "Requirement already satisfied: yq<4.0.0,>=3.1.0 in /home/jovyan/.conda/envs/jupyter-base/lib/python3.11/site-packages (from truefoundry) (3.4.3)\n",
      "Requirement already satisfied: botocore<1.39.0,>=1.38.41 in /home/jovyan/.conda/envs/jupyter-base/lib/python3.11/site-packages (from boto3) (1.38.41)\n",
      "Requirement already satisfied: jmespath<2.0.0,>=0.7.1 in /home/jovyan/.conda/envs/jupyter-base/lib/python3.11/site-packages (from boto3) (1.0.1)\n",
      "Requirement already satisfied: s3transfer<0.14.0,>=0.13.0 in /home/jovyan/.conda/envs/jupyter-base/lib/python3.11/site-packages (from boto3) (0.13.0)\n",
      "Requirement already satisfied: pytz in /home/jovyan/.conda/envs/jupyter-base/lib/python3.11/site-packages (from neo4j) (2024.2)\n",
      "Requirement already satisfied: httpx<0.29.0,>=0.26.0 in /home/jovyan/.conda/envs/jupyter-base/lib/python3.11/site-packages (from weaviate-client) (0.28.0)\n",
      "Requirement already satisfied: validators==0.34.0 in /home/jovyan/.conda/envs/jupyter-base/lib/python3.11/site-packages (from weaviate-client) (0.34.0)\n",
      "Requirement already satisfied: authlib<2.0.0,>=1.2.1 in /home/jovyan/.conda/envs/jupyter-base/lib/python3.11/site-packages (from weaviate-client) (1.3.1)\n",
      "Requirement already satisfied: grpcio<2.0.0,>=1.66.2 in /home/jovyan/.conda/envs/jupyter-base/lib/python3.11/site-packages (from weaviate-client) (1.73.0)\n",
      "Requirement already satisfied: grpcio-tools<2.0.0,>=1.66.2 in /home/jovyan/.conda/envs/jupyter-base/lib/python3.11/site-packages (from weaviate-client) (1.73.0)\n",
      "Requirement already satisfied: grpcio-health-checking<2.0.0,>=1.66.2 in /home/jovyan/.conda/envs/jupyter-base/lib/python3.11/site-packages (from weaviate-client) (1.73.0)\n",
      "Requirement already satisfied: deprecation<3.0.0,>=2.1.0 in /home/jovyan/.conda/envs/jupyter-base/lib/python3.11/site-packages (from weaviate-client) (2.1.0)\n",
      "Requirement already satisfied: cryptography in /home/jovyan/.conda/envs/jupyter-base/lib/python3.11/site-packages (from authlib<2.0.0,>=1.2.1->weaviate-client) (45.0.4)\n",
      "Requirement already satisfied: gitdb<5,>=4.0.1 in /home/jovyan/.conda/envs/jupyter-base/lib/python3.11/site-packages (from gitpython<4.0.0,>=3.1.43->truefoundry) (4.0.11)\n",
      "Requirement already satisfied: protobuf<7.0.0,>=6.30.0 in /home/jovyan/.conda/envs/jupyter-base/lib/python3.11/site-packages (from grpcio-health-checking<2.0.0,>=1.66.2->weaviate-client) (6.31.1)\n",
      "Requirement already satisfied: setuptools in /home/jovyan/.conda/envs/jupyter-base/lib/python3.11/site-packages (from grpcio-tools<2.0.0,>=1.66.2->weaviate-client) (75.6.0)\n",
      "Requirement already satisfied: anyio in /home/jovyan/.conda/envs/jupyter-base/lib/python3.11/site-packages (from httpx<0.29.0,>=0.26.0->weaviate-client) (4.6.2.post1)\n",
      "Requirement already satisfied: certifi in /home/jovyan/.conda/envs/jupyter-base/lib/python3.11/site-packages (from httpx<0.29.0,>=0.26.0->weaviate-client) (2024.8.30)\n",
      "Requirement already satisfied: httpcore==1.* in /home/jovyan/.conda/envs/jupyter-base/lib/python3.11/site-packages (from httpx<0.29.0,>=0.26.0->weaviate-client) (1.0.7)\n",
      "Requirement already satisfied: idna in /home/jovyan/.conda/envs/jupyter-base/lib/python3.11/site-packages (from httpx<0.29.0,>=0.26.0->weaviate-client) (3.10)\n",
      "Requirement already satisfied: h11<0.15,>=0.13 in /home/jovyan/.conda/envs/jupyter-base/lib/python3.11/site-packages (from httpcore==1.*->httpx<0.29.0,>=0.26.0->weaviate-client) (0.14.0)\n",
      "Requirement already satisfied: zipp>=3.20 in /home/jovyan/.conda/envs/jupyter-base/lib/python3.11/site-packages (from importlib-metadata<9.0.0,>=4.11.3->truefoundry) (3.21.0)\n",
      "Requirement already satisfied: MarkupSafe>=0.9.2 in /home/jovyan/.conda/envs/jupyter-base/lib/python3.11/site-packages (from mako<2.0.0,>=1.1.6->truefoundry) (3.0.2)\n",
      "Requirement already satisfied: distro<2,>=1.7.0 in /home/jovyan/.conda/envs/jupyter-base/lib/python3.11/site-packages (from openai<2.0.0,>=1.16.2->truefoundry) (1.9.0)\n",
      "Requirement already satisfied: jiter<1,>=0.4.0 in /home/jovyan/.conda/envs/jupyter-base/lib/python3.11/site-packages (from openai<2.0.0,>=1.16.2->truefoundry) (0.10.0)\n",
      "Requirement already satisfied: sniffio in /home/jovyan/.conda/envs/jupyter-base/lib/python3.11/site-packages (from openai<2.0.0,>=1.16.2->truefoundry) (1.3.1)\n",
      "Requirement already satisfied: annotated-types>=0.6.0 in /home/jovyan/.conda/envs/jupyter-base/lib/python3.11/site-packages (from pydantic<3.0.0,>=1.8.2->truefoundry) (0.7.0)\n",
      "Requirement already satisfied: pydantic-core==2.33.2 in /home/jovyan/.conda/envs/jupyter-base/lib/python3.11/site-packages (from pydantic<3.0.0,>=1.8.2->truefoundry) (2.33.2)\n",
      "Requirement already satisfied: typing-inspection>=0.4.0 in /home/jovyan/.conda/envs/jupyter-base/lib/python3.11/site-packages (from pydantic<3.0.0,>=1.8.2->truefoundry) (0.4.1)\n",
      "Requirement already satisfied: six>=1.5 in /home/jovyan/.conda/envs/jupyter-base/lib/python3.11/site-packages (from python-dateutil<3.0.0,>=2.8.2->truefoundry) (1.17.0)\n",
      "Requirement already satisfied: bidict>=0.21.0 in /home/jovyan/.conda/envs/jupyter-base/lib/python3.11/site-packages (from python-socketio<6.0.0,>=5.5.2->python-socketio[client]<6.0.0,>=5.5.2->truefoundry) (0.23.1)\n",
      "Requirement already satisfied: python-engineio>=4.11.0 in /home/jovyan/.conda/envs/jupyter-base/lib/python3.11/site-packages (from python-socketio<6.0.0,>=5.5.2->python-socketio[client]<6.0.0,>=5.5.2->truefoundry) (4.12.2)\n",
      "Requirement already satisfied: websocket-client>=0.54.0 in /home/jovyan/.conda/envs/jupyter-base/lib/python3.11/site-packages (from python-socketio[client]<6.0.0,>=5.5.2->truefoundry) (1.8.0)\n",
      "Requirement already satisfied: prompt_toolkit<4.0,>=2.0 in /home/jovyan/.conda/envs/jupyter-base/lib/python3.11/site-packages (from questionary<2.0.0,>=1.10.0->truefoundry) (3.0.48)\n",
      "Requirement already satisfied: charset_normalizer<4,>=2 in /home/jovyan/.conda/envs/jupyter-base/lib/python3.11/site-packages (from requests<3.0.0,>=2.18.0->truefoundry) (3.4.0)\n",
      "Requirement already satisfied: types-setuptools>=69.1.0 in /home/jovyan/.conda/envs/jupyter-base/lib/python3.11/site-packages (from requirements-parser<0.12.0,>=0.11.0->truefoundry) (80.9.0.20250529)\n",
      "Requirement already satisfied: markdown-it-py>=2.2.0 in /home/jovyan/.conda/envs/jupyter-base/lib/python3.11/site-packages (from rich<14.0.0,>=13.7.1->truefoundry) (3.0.0)\n",
      "Requirement already satisfied: xmltodict>=0.11.0 in /home/jovyan/.conda/envs/jupyter-base/lib/python3.11/site-packages (from yq<4.0.0,>=3.1.0->truefoundry) (0.14.2)\n",
      "Requirement already satisfied: tomlkit>=0.11.6 in /home/jovyan/.conda/envs/jupyter-base/lib/python3.11/site-packages (from yq<4.0.0,>=3.1.0->truefoundry) (0.13.2)\n",
      "Requirement already satisfied: argcomplete>=1.8.1 in /home/jovyan/.conda/envs/jupyter-base/lib/python3.11/site-packages (from yq<4.0.0,>=3.1.0->truefoundry) (3.6.2)\n",
      "Requirement already satisfied: smmap<6,>=3.0.1 in /home/jovyan/.conda/envs/jupyter-base/lib/python3.11/site-packages (from gitdb<5,>=4.0.1->gitpython<4.0.0,>=3.1.43->truefoundry) (5.0.1)\n",
      "Requirement already satisfied: mdurl~=0.1 in /home/jovyan/.conda/envs/jupyter-base/lib/python3.11/site-packages (from markdown-it-py>=2.2.0->rich<14.0.0,>=13.7.1->truefoundry) (0.1.2)\n",
      "Requirement already satisfied: wcwidth in /home/jovyan/.conda/envs/jupyter-base/lib/python3.11/site-packages (from prompt_toolkit<4.0,>=2.0->questionary<2.0.0,>=1.10.0->truefoundry) (0.2.13)\n",
      "Requirement already satisfied: simple-websocket>=0.10.0 in /home/jovyan/.conda/envs/jupyter-base/lib/python3.11/site-packages (from python-engineio>=4.11.0->python-socketio<6.0.0,>=5.5.2->python-socketio[client]<6.0.0,>=5.5.2->truefoundry) (1.1.0)\n",
      "Requirement already satisfied: cffi>=1.14 in /home/jovyan/.conda/envs/jupyter-base/lib/python3.11/site-packages (from cryptography->authlib<2.0.0,>=1.2.1->weaviate-client) (1.17.1)\n",
      "Requirement already satisfied: pycparser in /home/jovyan/.conda/envs/jupyter-base/lib/python3.11/site-packages (from cffi>=1.14->cryptography->authlib<2.0.0,>=1.2.1->weaviate-client) (2.22)\n",
      "Requirement already satisfied: wsproto in /home/jovyan/.conda/envs/jupyter-base/lib/python3.11/site-packages (from simple-websocket>=0.10.0->python-engineio>=4.11.0->python-socketio<6.0.0,>=5.5.2->python-socketio[client]<6.0.0,>=5.5.2->truefoundry) (1.2.0)\n",
      "Downloading weaviate_client-4.15.3-py3-none-any.whl (433 kB)\n",
      "Installing collected packages: weaviate-client\n",
      "  Attempting uninstall: weaviate-client\n",
      "    Found existing installation: weaviate-client 4.15.2\n",
      "    Uninstalling weaviate-client-4.15.2:\n",
      "      Successfully uninstalled weaviate-client-4.15.2\n",
      "Successfully installed weaviate-client-4.15.3\n",
      "Note: you may need to restart the kernel to use updated packages.\n"
     ]
    }
   ],
   "source": [
    "%pip install -U truefoundry boto3 neo4j weaviate-client"
   ]
  },
  {
   "cell_type": "markdown",
   "metadata": {},
   "source": [
    "**Login into TrueFoundry**"
   ]
  },
  {
   "cell_type": "code",
   "execution_count": 7,
   "metadata": {
    "execution": {
     "iopub.execute_input": "2025-06-23T14:25:47.770293Z",
     "iopub.status.busy": "2025-06-23T14:25:47.769833Z",
     "iopub.status.idle": "2025-06-23T14:25:50.019577Z",
     "shell.execute_reply": "2025-06-23T14:25:50.019037Z",
     "shell.execute_reply.started": "2025-06-23T14:25:47.770268Z"
    },
    "id": "0QL_ZCes6nEz"
   },
   "outputs": [
    {
     "name": "stdout",
     "output_type": "stream",
     "text": [
      "Already logged in to \u001b[32m'https://platform-admin.live-demo.truefoundry.cloud'\u001b[0m as \u001b[32m'tfy-user'\u001b[0m\n",
      "To relogin, use `tfy login --host \u001b[4;94mhttps://platform-admin.live-demo.truefoundry.cloud\u001b[0m --relogin` or `\u001b[1;35mtruefoundry.login\u001b[0m\u001b[1m(\u001b[0m\u001b[33mhost\u001b[0m=\u001b[32m'https://platform-admin.live-demo.truefoundry.cloud'\u001b[0m, \u001b[33mrelogin\u001b[0m=\u001b[3;92mTrue\u001b[0m\u001b[1m)\u001b[0m` function\n"
     ]
    }
   ],
   "source": [
    "!tfy login --host \"https://platform-admin.live-demo.truefoundry.cloud\""
   ]
  },
  {
   "cell_type": "markdown",
   "metadata": {
    "id": "5eDM6Z6r6q8G"
   },
   "source": [
    "**Select the `Workspace` in which you want to deploy your application.**\n",
    "\n",
    "Once you run the cell below you will get a prompt to enter your Workspace FQN. Follow the docs to\n",
    "\n",
    "**Create a Workspace**: https://docs.truefoundry.com/docs/key-concepts#creating-a-workspace\n",
    "\n",
    "**Get Existing Workspace FQN**: https://docs.truefoundry.com/docs/key-concepts#get-workspace-fqn"
   ]
  },
  {
   "cell_type": "code",
   "execution_count": 3,
   "metadata": {
    "execution": {
     "iopub.execute_input": "2025-06-23T13:40:34.745175Z",
     "iopub.status.busy": "2025-06-23T13:40:34.744827Z",
     "iopub.status.idle": "2025-06-23T13:40:34.747804Z",
     "shell.execute_reply": "2025-06-23T13:40:34.747309Z",
     "shell.execute_reply.started": "2025-06-23T13:40:34.745153Z"
    },
    "id": "4AU4ufGu6tpT"
   },
   "outputs": [],
   "source": [
    "WORKSPACE_FQN = \"tfy-aws:dev-ws\""
   ]
  },
  {
   "cell_type": "markdown",
   "metadata": {},
   "source": [
    "## Load Data\n",
    "We will show multiple ways to load the dataset here:\n",
    "1. Load data from External S3 bucket\n",
    "2. Load data from neo4j\n",
    "3. Load data from weaviate\n",
    "4. Load data from TrueFoundry ML Repository"
   ]
  },
  {
   "cell_type": "markdown",
   "metadata": {},
   "source": [
    "# 1. Load data from External S3 bucket\n",
    "\n",
    "External S3 bucket can be accessed using IAM role attached to serviceaccount of the Notebook"
   ]
  },
  {
   "cell_type": "code",
   "execution_count": 4,
   "metadata": {
    "execution": {
     "iopub.execute_input": "2025-06-23T13:40:34.748447Z",
     "iopub.status.busy": "2025-06-23T13:40:34.748316Z",
     "iopub.status.idle": "2025-06-23T13:40:35.059916Z",
     "shell.execute_reply": "2025-06-23T13:40:35.059423Z",
     "shell.execute_reply.started": "2025-06-23T13:40:34.748436Z"
    }
   },
   "outputs": [
    {
     "name": "stdout",
     "output_type": "stream",
     "text": [
      "['dataset/', 'dataset/dataset/dataset-A.csv', 'dataset/dataset/dataset-B.csv', 'dataset/dataset/dataset-C.csv', 'dataset/dataset/dataset-D.csv', 'dataset/dataset/dataset-E.csv', 'dataset/dataset/dataset-F.csv', 'sample.txt']\n"
     ]
    }
   ],
   "source": [
    "# !pip install boto3\n",
    "import boto3\n",
    "s3_client = boto3.client(\"s3\")\n",
    "\n",
    "response = s3_client.list_objects(Bucket='tfy-usea1-ext-ctl20250623064606752500000001')\n",
    "# res = response['Body'].read().decode('utf-8')\n",
    "paths = [obj['Key'] for obj in response['Contents']]\n",
    "\n",
    "print(paths)"
   ]
  },
  {
   "cell_type": "markdown",
   "metadata": {},
   "source": [
    "### 2. Load data from neo4j\n",
    "\n",
    "Connect to Neo4j instance running on TrueFoundry or any managed service"
   ]
  },
  {
   "cell_type": "code",
   "execution_count": 5,
   "metadata": {
    "execution": {
     "iopub.execute_input": "2025-06-23T13:40:35.060614Z",
     "iopub.status.busy": "2025-06-23T13:40:35.060458Z",
     "iopub.status.idle": "2025-06-23T13:40:35.290965Z",
     "shell.execute_reply": "2025-06-23T13:40:35.290496Z",
     "shell.execute_reply.started": "2025-06-23T13:40:35.060599Z"
    }
   },
   "outputs": [
    {
     "name": "stdout",
     "output_type": "stream",
     "text": [
      "{'name': 'Alice'}\n",
      "{'name': 'Alice'}\n",
      "{'name': 'Alice'}\n",
      "The query `\n",
      "        MATCH (p:Person)-[:KNOWS]->(:Person)\n",
      "        RETURN p.name AS name\n",
      "        ` returned 3 records in 2 ms.\n"
     ]
    }
   ],
   "source": [
    "from neo4j import GraphDatabase\n",
    "\n",
    "URI = \"neo4j://neo4j.dev-ws.svc.cluster.local\"\n",
    "AUTH = (\"neo4j\", \"51ce8fd4-1c9a-44e8-ad3b-b9d26ea6d074\")\n",
    "\n",
    "with GraphDatabase.driver(URI, auth=AUTH) as driver:\n",
    "    driver.verify_connectivity()\n",
    "    # Create graph\n",
    "    # summary = driver.execute_query(\"\"\"\n",
    "    #     CREATE (a:Person {name: $name})\n",
    "    #     CREATE (b:Person {name: $friendName})\n",
    "    #     CREATE (a)-[:KNOWS]->(b)\n",
    "    #     \"\"\",\n",
    "    #     name=\"Alice\", friendName=\"David\",\n",
    "    #     database_=\"neo4j\",\n",
    "    # ).summary\n",
    "    # print(\"Created {nodes_created} nodes in {time} ms.\".format(\n",
    "    #     nodes_created=summary.counters.nodes_created,\n",
    "    #     time=summary.result_available_after\n",
    "    # ))\n",
    "    # Query a graph\n",
    "    records, summary, keys = driver.execute_query(\"\"\"\n",
    "        MATCH (p:Person)-[:KNOWS]->(:Person)\n",
    "        RETURN p.name AS name\n",
    "        \"\"\",\n",
    "        database_=\"neo4j\",\n",
    "    )\n",
    "    # Loop through results and do something with them\n",
    "    for record in records:\n",
    "        print(record.data())  # obtain record as dict\n",
    "    # Summary information\n",
    "    print(\"The query `{query}` returned {records_count} records in {time} ms.\".format(\n",
    "        query=summary.query, records_count=len(records),\n",
    "        time=summary.result_available_after\n",
    "    ))"
   ]
  },
  {
   "cell_type": "markdown",
   "metadata": {},
   "source": [
    "### 3. Load data from Weaviate\n",
    "\n",
    "Connect to Weaviate instance running on TrueFoundry or any managed service"
   ]
  },
  {
   "cell_type": "code",
   "execution_count": 15,
   "metadata": {
    "execution": {
     "iopub.execute_input": "2025-06-23T13:43:33.250535Z",
     "iopub.status.busy": "2025-06-23T13:43:33.250095Z",
     "iopub.status.idle": "2025-06-23T13:43:33.326545Z",
     "shell.execute_reply": "2025-06-23T13:43:33.326147Z",
     "shell.execute_reply.started": "2025-06-23T13:43:33.250520Z"
    }
   },
   "outputs": [
    {
     "name": "stdout",
     "output_type": "stream",
     "text": [
      "{'Article': _CollectionConfigSimple(name='Article', description=None, generative_config=None, properties=[_Property(name='title', description=None, data_type=<DataType.TEXT: 'text'>, index_filterable=True, index_range_filters=False, index_searchable=True, nested_properties=None, tokenization=<Tokenization.WORD: 'word'>, vectorizer_config=None, vectorizer='none', vectorizer_configs=None), _Property(name='body', description=None, data_type=<DataType.TEXT: 'text'>, index_filterable=True, index_range_filters=False, index_searchable=True, nested_properties=None, tokenization=<Tokenization.WORD: 'word'>, vectorizer_config=None, vectorizer='none', vectorizer_configs=None)], references=[], reranker_config=None, vectorizer_config=None, vectorizer=<Vectorizers.NONE: 'none'>, vector_config=None)}\n"
     ]
    }
   ],
   "source": [
    "import weaviate\n",
    "\n",
    "Host = \"weaviate.dev-ws.svc.cluster.local\"\n",
    "grpcHost = \"weaviate-grpc.dev-ws.svc.cluster.local\"\n",
    "\n",
    "client = weaviate.connect_to_custom(\n",
    "    http_host=Host,\n",
    "    http_port=8080,\n",
    "    http_secure=False,\n",
    "    grpc_host=grpcHost,\n",
    "    grpc_port=50051,\n",
    "    grpc_secure=False,\n",
    ")\n",
    "# Create a new collection\n",
    "# from weaviate.classes.config import Property, DataType\n",
    "\n",
    "# # Note that you can use `client.collections.create_from_dict()` to create a collection from a v3-client-style JSON object\n",
    "# client.collections.create(\n",
    "#     \"Article\",\n",
    "#     properties=[\n",
    "#         Property(name=\"title\", data_type=DataType.TEXT),\n",
    "#         Property(name=\"body\", data_type=DataType.TEXT),\n",
    "#     ]\n",
    "# )\n",
    "\n",
    "# List all collections\n",
    "resp = client.collections.list_all()\n",
    "print(resp)\n",
    "client.close()"
   ]
  },
  {
   "cell_type": "markdown",
   "metadata": {},
   "source": [
    "### 4. Load data from TrueFoundry ML Repository"
   ]
  },
  {
   "cell_type": "code",
   "execution_count": 25,
   "metadata": {
    "execution": {
     "iopub.execute_input": "2025-06-23T13:50:10.972225Z",
     "iopub.status.busy": "2025-06-23T13:50:10.971810Z",
     "iopub.status.idle": "2025-06-23T13:50:11.493715Z",
     "shell.execute_reply": "2025-06-23T13:50:11.493322Z",
     "shell.execute_reply.started": "2025-06-23T13:50:10.972207Z"
    }
   },
   "outputs": [
    {
     "name": "stdout",
     "output_type": "stream",
     "text": [
      "[truefoundry.ml] 2025-06-23T13:50:11+0000 INFO Downloading artifact version contents, this might take a while ...\n"
     ]
    },
    {
     "data": {
      "application/vnd.jupyter.widget-view+json": {
       "model_id": "6cd383df78f143fe90bb19fc2a2271c8",
       "version_major": 2,
       "version_minor": 0
      },
      "text/plain": [
       "Output()"
      ]
     },
     "metadata": {},
     "output_type": "display_data"
    },
    {
     "name": "stdout",
     "output_type": "stream",
     "text": [
      "[truefoundry.ml] 2025-06-23T13:50:11+0000 INFO Downloading dataset-A.csv to /home/jovyan/train-model/dataset-A.csv\n"
     ]
    },
    {
     "data": {
      "text/html": [
       "<pre style=\"white-space:pre;overflow-x:auto;line-height:normal;font-family:Menlo,'DejaVu Sans Mono',consolas,'Courier New',monospace\"></pre>\n"
      ],
      "text/plain": []
     },
     "metadata": {},
     "output_type": "display_data"
    }
   ],
   "source": [
    "# Download dataset from ML Repo\n",
    "\n",
    "from truefoundry.ml import get_client\n",
    "import warnings\n",
    "warnings.filterwarnings(\"ignore\", category=DeprecationWarning, module=\"truefoundry\")\n",
    "client = get_client()\n",
    "\n",
    "# Log Artifact\n",
    "# artifact_version = client.log_artifact(\n",
    "#     ml_repo=\"bank-customer-churn\",\n",
    "#     name=\"locally-uploaded\",\n",
    "#     artifact_paths=[\n",
    "#         # Add all your files or folders here\n",
    "#         # The second element in the tuple is the destination path in the artifact relative to the root\n",
    "#         (\"./dataset-A.csv\", None),\n",
    "#     ],\n",
    "# )\n",
    "# print(f\"Artifact version {artifact_version.fqn} created successfully\")\n",
    "\n",
    "\n",
    "# Get the artifact version directly\n",
    "artifact_version = client.get_artifact_version_by_fqn(\"artifact:live-demo/bank-customer-churn/locally-uploaded:3\")\n",
    "\n",
    "# download it to disk\n",
    "# `download_path` points to a directory that has all contents of the artifact\n",
    "download_path = artifact_version.download(path=\".\", overwrite=True)"
   ]
  },
  {
   "cell_type": "markdown",
   "metadata": {
    "id": "IgTqSS3Q7J46"
   },
   "source": [
    "# Step 1: Implement the training code\n",
    "\n",
    "The first step is to create a job that trains a scikit learn model on iris dataset\n",
    "\n",
    "We start with a `train.py` containing our training code and `requirements.txt` with our dependencies.\n",
    "\n",
    "```\n",
    ".\n",
    "├── train.py\n",
    "└── requirements.txt\n",
    "```\n"
   ]
  },
  {
   "cell_type": "markdown",
   "metadata": {
    "id": "ewNT1fG07tRY"
   },
   "source": [
    "### **`train.py`**\n"
   ]
  },
  {
   "cell_type": "code",
   "execution_count": 8,
   "metadata": {
    "colab": {
     "base_uri": "https://localhost:8080/"
    },
    "execution": {
     "iopub.execute_input": "2025-06-23T13:40:37.919910Z",
     "iopub.status.busy": "2025-06-23T13:40:37.919617Z",
     "iopub.status.idle": "2025-06-23T13:40:37.923929Z",
     "shell.execute_reply": "2025-06-23T13:40:37.923380Z",
     "shell.execute_reply.started": "2025-06-23T13:40:37.919895Z"
    },
    "id": "LuU9kOzv7Ci7",
    "outputId": "002753bd-6b23-48ff-aff6-9fa5c0f380d6"
   },
   "outputs": [
    {
     "name": "stdout",
     "output_type": "stream",
     "text": [
      "Overwriting train.py\n"
     ]
    }
   ],
   "source": [
    "%%writefile train.py\n",
    "from sklearn.datasets import load_iris\n",
    "from sklearn.model_selection import train_test_split\n",
    "from sklearn.linear_model import LogisticRegression\n",
    "from sklearn.metrics import classification_report\n",
    "\n",
    "# load the dataset\n",
    "X, y = load_iris(as_frame=True, return_X_y=True)\n",
    "X = X.rename(columns={\n",
    "        \"sepal length (cm)\": \"sepal_length\",\n",
    "        \"sepal width (cm)\": \"sepal_width\",\n",
    "        \"petal length (cm)\": \"petal_length\",\n",
    "        \"petal width (cm)\": \"petal_width\",\n",
    "})\n",
    "\n",
    "# NOTE:- You can pass these configurations via command line\n",
    "# arguments, config file, environment variables.\n",
    "X_train, X_test, y_train, y_test = train_test_split(\n",
    "    X, y, test_size=0.2, random_state=42, stratify=y\n",
    ")\n",
    "\n",
    "# Initialize the model\n",
    "clf = LogisticRegression(solver=\"liblinear\")\n",
    "# Fit the model\n",
    "clf.fit(X_train, y_train)\n",
    "\n",
    "preds = clf.predict(X_test)\n",
    "print(classification_report(y_true=y_test, y_pred=preds))"
   ]
  },
  {
   "cell_type": "markdown",
   "metadata": {
    "id": "Exa3CI-T7jnR"
   },
   "source": [
    "Click on this [link](https://docs.truefoundry.com/v0.1.1/recipes/training-a-scikit-learn-model) to understand the **`app.py`**:\n"
   ]
  },
  {
   "cell_type": "markdown",
   "metadata": {
    "id": "c1zqWidl7yTS"
   },
   "source": [
    "### **`requirements.txt`**\n"
   ]
  },
  {
   "cell_type": "code",
   "execution_count": 9,
   "metadata": {
    "colab": {
     "base_uri": "https://localhost:8080/"
    },
    "execution": {
     "iopub.execute_input": "2025-06-23T13:40:37.924753Z",
     "iopub.status.busy": "2025-06-23T13:40:37.924598Z",
     "iopub.status.idle": "2025-06-23T13:40:37.928065Z",
     "shell.execute_reply": "2025-06-23T13:40:37.927555Z",
     "shell.execute_reply.started": "2025-06-23T13:40:37.924740Z"
    },
    "id": "vHJts2tR7bfw",
    "outputId": "7b4c8cbb-2e42-4e6c-e265-d7acf59ffc6a"
   },
   "outputs": [
    {
     "name": "stdout",
     "output_type": "stream",
     "text": [
      "Overwriting requirements.txt\n"
     ]
    }
   ],
   "source": [
    "%%writefile requirements.txt\n",
    "pandas==1.5.3\n",
    "numpy==1.23.2\n",
    "scikit-learn==1.5.0"
   ]
  },
  {
   "cell_type": "markdown",
   "metadata": {
    "id": "vtwCrPGJ750K"
   },
   "source": [
    "# Step 2: Deploying as a Job\n",
    "\n",
    "You can deploy services on TrueFoundry programmatically via our **Python SDK**.\n",
    "\n",
    "Create the `deploy.py`, after which our file structure will look like this:\n",
    "\n",
    "**File Structure**\n",
    "\n",
    "```Text\n",
    ".\n",
    "├── train.py\n",
    "├── deploy.py\n",
    "└── requirements.txt\n",
    "```\n",
    "\n",
    "### **`deploy.py`**\n"
   ]
  },
  {
   "cell_type": "code",
   "execution_count": 10,
   "metadata": {
    "colab": {
     "base_uri": "https://localhost:8080/"
    },
    "execution": {
     "iopub.execute_input": "2025-06-23T13:40:37.929031Z",
     "iopub.status.busy": "2025-06-23T13:40:37.928753Z",
     "iopub.status.idle": "2025-06-23T13:40:37.932215Z",
     "shell.execute_reply": "2025-06-23T13:40:37.931763Z",
     "shell.execute_reply.started": "2025-06-23T13:40:37.929018Z"
    },
    "id": "jc-yRSkE7xdD",
    "outputId": "ffa6fcc8-f43d-4238-8138-ed5131b2322c"
   },
   "outputs": [
    {
     "name": "stdout",
     "output_type": "stream",
     "text": [
      "Overwriting deploy.py\n"
     ]
    }
   ],
   "source": [
    "%%writefile deploy.py\n",
    "import argparse\n",
    "import logging\n",
    "\n",
    "from truefoundry.deploy import Build, Job, PythonBuild, LocalSource\n",
    "\n",
    "logging.basicConfig(\n",
    "    level=logging.INFO, format=\"%(asctime)s [%(name)s] %(levelname)-8s %(message)s\"\n",
    ")\n",
    "\n",
    "parser = argparse.ArgumentParser()\n",
    "parser.add_argument(\"--workspace_fqn\", required=True, type=str)\n",
    "args = parser.parse_args()\n",
    "\n",
    "job = Job(\n",
    "    name=\"iris-train-job\",\n",
    "    image=Build(\n",
    "        build_source=LocalSource(local_build=False),\n",
    "        build_spec=PythonBuild(\n",
    "            python_version=\"3.11\",\n",
    "            command=\"python train.py\",\n",
    "            requirements_path=\"requirements.txt\",\n",
    "        )\n",
    "    )\n",
    ")\n",
    "job.deploy(workspace_fqn=args.workspace_fqn, wait=False)"
   ]
  },
  {
   "cell_type": "markdown",
   "metadata": {
    "id": "6bjVtz5v829H"
   },
   "source": [
    "Now to deploy our Job run the command below\n"
   ]
  },
  {
   "cell_type": "code",
   "execution_count": 11,
   "metadata": {
    "colab": {
     "base_uri": "https://localhost:8080/"
    },
    "execution": {
     "iopub.execute_input": "2025-06-23T13:40:37.933204Z",
     "iopub.status.busy": "2025-06-23T13:40:37.932958Z",
     "iopub.status.idle": "2025-06-23T13:40:40.527261Z",
     "shell.execute_reply": "2025-06-23T13:40:40.526661Z",
     "shell.execute_reply.started": "2025-06-23T13:40:37.933184Z"
    },
    "id": "OBNeK70h85L1",
    "outputId": "58c98c1d-9622-46b3-e977-8eb9e195d22b"
   },
   "outputs": [
    {
     "name": "stdout",
     "output_type": "stream",
     "text": [
      "2025-06-23 13:40:39,569 [truefoundry] INFO     Logged in to 'https://platform-admin.live-demo.truefoundry.cloud' as 'tfy-user'\n",
      "2025-06-23 13:40:39,616 [truefoundry] INFO     Image will be built remotely because `image.build_source.local_build` is set to `false`. For faster builds it is recommended to install Docker locally and set `image.build_source.local_build` to `true` in your YAML spec or equivalently set `image=Build(build_source=LocalSource(local_build=True, ...))` in your `Service` or `Job` definition code.\n",
      "2025-06-23 13:40:39,616 [truefoundry] INFO     Uploading code for job 'iris-train-job'\n",
      "2025-06-23 13:40:39,617 [truefoundry] INFO     Archiving contents of dir: '/home/jovyan/train-model'\n",
      "2025-06-23 13:40:39,770 [truefoundry] INFO     Neither `.tfyignore` file found in /home/jovyan/train-model nor a valid git repository found. We recommend you to create .tfyignore file and add file patterns to ignore\n",
      "Packaging source code: 2it [00:00, 700.92it/s]\n",
      "2025-06-23 13:40:39,777 [truefoundry] INFO     Code archive size: '6.88 KiB'\n",
      "Uploading package: 100%|███████████████████| 6.88k/6.88k [00:00<00:00, 90.4kB/s]\n",
      "2025-06-23 13:40:40,093 [truefoundry] INFO     🚀 Deployment started for application 'iris-train-job'. Deployment FQN is 'tfy-aws:dev-ws:iris-train-job:1'.\n",
      "2025-06-23 13:40:40,094 [truefoundry] INFO     Deployment FQN: tfy-aws:dev-ws:iris-train-job:1\n",
      "2025-06-23 13:40:40,094 [truefoundry] INFO     Application FQN: tfy-aws:dev-ws:iris-train-job\n",
      "2025-06-23 13:40:40,095 [truefoundry] INFO     You can find the application on the dashboard:- 'https://platform-admin.live-demo.truefoundry.cloud/applications/cmc959lsy09i201nbdnje9ihv?tab=deployments'\n"
     ]
    }
   ],
   "source": [
    "!python deploy.py --workspace_fqn $WORKSPACE_FQN"
   ]
  },
  {
   "cell_type": "code",
   "execution_count": 24,
   "metadata": {
    "execution": {
     "iopub.execute_input": "2025-06-23T13:47:54.971757Z",
     "iopub.status.busy": "2025-06-23T13:47:54.971166Z",
     "iopub.status.idle": "2025-06-23T13:47:55.105903Z",
     "shell.execute_reply": "2025-06-23T13:47:55.105198Z",
     "shell.execute_reply.started": "2025-06-23T13:47:54.971731Z"
    }
   },
   "outputs": [
    {
     "name": "stdout",
     "output_type": "stream",
     "text": [
      "On branch master\n",
      "Changes not staged for commit:\n",
      "  (use \"git add <file>...\" to update what will be committed)\n",
      "  (use \"git restore <file>...\" to discard changes in working directory)\n",
      "\t\u001b[31mmodified:   deploy_your_first_job.ipynb\u001b[m\n",
      "\n",
      "no changes added to commit (use \"git add\" and/or \"git commit -a\")\n"
     ]
    }
   ],
   "source": [
    "# Check Git status\n",
    "!git status"
   ]
  },
  {
   "cell_type": "code",
   "execution_count": 23,
   "metadata": {
    "execution": {
     "iopub.execute_input": "2025-06-23T13:47:19.972441Z",
     "iopub.status.busy": "2025-06-23T13:47:19.971978Z",
     "iopub.status.idle": "2025-06-23T13:47:20.110639Z",
     "shell.execute_reply": "2025-06-23T13:47:20.110019Z",
     "shell.execute_reply.started": "2025-06-23T13:47:19.972421Z"
    }
   },
   "outputs": [
    {
     "name": "stdout",
     "output_type": "stream",
     "text": [
      "[master (root-commit) ccf35e7] init\n",
      " 6 files changed, 1635 insertions(+)\n",
      " create mode 100644 .ipynb_checkpoints/deploy_your_first_job-checkpoint.ipynb\n",
      " create mode 100644 dataset-A.csv\n",
      " create mode 100644 deploy.py\n",
      " create mode 100644 deploy_your_first_job.ipynb\n",
      " create mode 100644 requirements.txt\n",
      " create mode 100644 train.py\n"
     ]
    }
   ],
   "source": [
    "# Commit to Git\n",
    "\n",
    "!git add .\n",
    "!git commit -m \"init\""
   ]
  },
  {
   "cell_type": "code",
   "execution_count": 5,
   "metadata": {
    "execution": {
     "iopub.execute_input": "2025-06-23T13:58:39.021178Z",
     "iopub.status.busy": "2025-06-23T13:58:39.020941Z",
     "iopub.status.idle": "2025-06-23T13:58:39.518871Z",
     "shell.execute_reply": "2025-06-23T13:58:39.518282Z",
     "shell.execute_reply.started": "2025-06-23T13:58:39.021159Z"
    }
   },
   "outputs": [
    {
     "name": "stdout",
     "output_type": "stream",
     "text": [
      "Everything up-to-date\n"
     ]
    }
   ],
   "source": [
    "# Push to your Repo\n",
    "!git push origin main"
   ]
  },
  {
   "cell_type": "code",
   "execution_count": null,
   "metadata": {},
   "outputs": [],
   "source": []
  }
 ],
 "metadata": {
  "colab": {
   "provenance": []
  },
  "kernelspec": {
   "display_name": ".conda-jupyter-base",
   "language": "python",
   "name": "conda-env-.conda-jupyter-base-py"
  },
  "language_info": {
   "codemirror_mode": {
    "name": "ipython",
    "version": 3
   },
   "file_extension": ".py",
   "mimetype": "text/x-python",
   "name": "python",
   "nbconvert_exporter": "python",
   "pygments_lexer": "ipython3",
   "version": "3.11.10"
  }
 },
 "nbformat": 4,
 "nbformat_minor": 4
}
